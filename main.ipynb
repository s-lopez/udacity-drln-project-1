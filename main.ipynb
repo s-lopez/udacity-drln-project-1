{
 "cells": [
  {
   "cell_type": "code",
   "execution_count": 1,
   "metadata": {},
   "outputs": [],
   "source": [
    "# Create an agent which navigates and solves the environment"
   ]
  },
  {
   "cell_type": "code",
   "execution_count": 1,
   "metadata": {},
   "outputs": [],
   "source": [
    "from unityagents import UnityEnvironment\n",
    "import numpy as np"
   ]
  },
  {
   "cell_type": "markdown",
   "metadata": {},
   "source": [
    "# Initialize the environment"
   ]
  },
  {
   "cell_type": "code",
   "execution_count": 2,
   "metadata": {
    "scrolled": true
   },
   "outputs": [
    {
     "name": "stderr",
     "output_type": "stream",
     "text": [
      "INFO:unityagents:\n",
      "'Academy' started successfully!\n",
      "Unity Academy name: Academy\n",
      "        Number of Brains: 1\n",
      "        Number of External Brains : 1\n",
      "        Lesson number : 0\n",
      "        Reset Parameters :\n",
      "\t\t\n",
      "Unity brain name: BananaBrain\n",
      "        Number of Visual Observations (per agent): 0\n",
      "        Vector Observation space type: continuous\n",
      "        Vector Observation space size (per agent): 37\n",
      "        Number of stacked Vector Observation: 1\n",
      "        Vector Action space type: discrete\n",
      "        Vector Action space size (per agent): 4\n",
      "        Vector Action descriptions: , , , \n"
     ]
    }
   ],
   "source": [
    "PATH_TO_ENV = \"Banana_Linux/Banana.x86\"\n",
    "BRAIN = \"BananaBrain\"\n",
    "TRAINING = True\n",
    "\n",
    "env = UnityEnvironment(file_name=PATH_TO_ENV, no_graphics=TRAINING)\n",
    "bananator = env.brains[BRAIN]\n",
    "\n",
    "# number of actions\n",
    "ACTION_SIZE = bananator.vector_action_space_size\n",
    "\n",
    "# reset the environment\n",
    "env_info = env.reset(train_mode=TRAINING)[BRAIN]"
   ]
  },
  {
   "cell_type": "code",
   "execution_count": 3,
   "metadata": {},
   "outputs": [
    {
     "name": "stdout",
     "output_type": "stream",
     "text": [
      "States look like:\n",
      "[1.         0.         0.         0.         0.84408134 0.\n",
      " 0.         1.         0.         0.0748472  0.         1.\n",
      " 0.         0.         0.25755    1.         0.         0.\n",
      " 0.         0.74177343 0.         1.         0.         0.\n",
      " 0.25854847 0.         0.         1.         0.         0.09355672\n",
      " 0.         1.         0.         0.         0.31969345 0.\n",
      " 0.        ]\n",
      "\n",
      "<class 'numpy.ndarray'>\n"
     ]
    }
   ],
   "source": [
    "# examine the state space \n",
    "state = env_info.vector_observations[0]\n",
    "STATE_SIZE = len(state)\n",
    "\n",
    "print('States look like:')\n",
    "print(state)\n",
    "print()\n",
    "print(type(state))"
   ]
  },
  {
   "cell_type": "markdown",
   "metadata": {},
   "source": [
    "# Convenience functions"
   ]
  },
  {
   "cell_type": "code",
   "execution_count": 4,
   "metadata": {},
   "outputs": [],
   "source": [
    "def act(env, action, brain_name=BRAIN) -> tuple:\n",
    "    \"\"\"Lets brain_name perform action on the environment env.\n",
    "    Returns a tuple of reward, next_state, done\"\"\"\n",
    "    action_result = env.step(action)[brain_name] # Act on the environment and observe the result\n",
    "    return (action_result.rewards[0], # reward from action\n",
    "            action_result.vector_observations[0], # next state\n",
    "            action_result.local_done[0]) # True if the episode ended\n",
    "    \n",
    "def reset(env, training=TRAINING, brain_name=BRAIN) -> tuple:\n",
    "    \"\"\"Syntactic sugar for resetting the unity environment\"\"\"\n",
    "    return env.reset(train_mode=training)[brain_name].vector_observations[0] "
   ]
  },
  {
   "cell_type": "markdown",
   "metadata": {},
   "source": [
    "# Prepare the training"
   ]
  },
  {
   "cell_type": "code",
   "execution_count": 5,
   "metadata": {},
   "outputs": [],
   "source": [
    "# Invite our agent & import utils\n",
    "from dqn_agent import Agent, Parameters\n",
    "import torch"
   ]
  },
  {
   "cell_type": "code",
   "execution_count": 6,
   "metadata": {},
   "outputs": [],
   "source": [
    "# Profiling (optional)\n",
    "import cProfile\n",
    "profiling = False # Set to True to profile execution time\n",
    "if profiling:\n",
    "    profile = cProfile.Profile()"
   ]
  },
  {
   "cell_type": "code",
   "execution_count": 7,
   "metadata": {},
   "outputs": [],
   "source": [
    "# Define training steps\n",
    "def train(agent, env, num_episodes, log_freq, profiling=False, profile=None):\n",
    "        \n",
    "    score_hist = []\n",
    "    # Define epsilon power-law decay\n",
    "    decay_power = -2\n",
    "    eps_max = 1\n",
    "    eps_min = .1 ** (1/decay_power)\n",
    "    eps_end = round(num_episodes * .5)\n",
    "    epsilon = np.full(num_episodes, eps_min)\n",
    "    epsilon[:eps_end] = np.linspace(eps_max, eps_min, eps_end)\n",
    "    epsilon = epsilon ** decay_power\n",
    "    \n",
    "    if profiling: \n",
    "        profile.enable()\n",
    "        \n",
    "    # Train\n",
    "    for i in range(num_episodes):\n",
    "        state = reset(env)\n",
    "        score = 0\n",
    "        done = False\n",
    "        j = 0\n",
    "        while not done:\n",
    "            j += 1\n",
    "            action, expectation = agent.decide(state, epsilon[i])  # Choose an action based on the state\n",
    "            reward, next_state, done = act(env, action)    # Send the action to the environment\n",
    "            agent.step(state, action, reward, expectation, next_state, done) # Learn step\n",
    "            score += reward                                # Update the score\n",
    "            state = next_state                             # Roll over the state to next time step\n",
    "            if j >= 1e5:\n",
    "                # Stop this madness -- just in case\n",
    "                done = True\n",
    "\n",
    "        # Logging\n",
    "        score_hist.append(score)\n",
    "        if (i % log_freq == 0) and (i > 0):\n",
    "            print(f'Avg. score episodes {i-log_freq+1}-{i+1}: {np.mean(score_hist[-log_freq:])}')\n",
    "\n",
    "    if profiling: \n",
    "        profile.disable()\n",
    "\n",
    "    print(\"Score: {}\".format(score))\n",
    "    \n",
    "    return np.array(score_hist)"
   ]
  },
  {
   "cell_type": "markdown",
   "metadata": {},
   "source": [
    "# Vanilla run"
   ]
  },
  {
   "cell_type": "code",
   "execution_count": 11,
   "metadata": {},
   "outputs": [],
   "source": [
    "# Reference to the parameters used in Prioritized Experience Replay (PER):\n",
    "# [1] https://danieltakeshi.github.io/2019/07/14/per/\n",
    "# [2] https://arxiv.org/pdf/1511.05952.pdf"
   ]
  },
  {
   "cell_type": "code",
   "execution_count": 21,
   "metadata": {},
   "outputs": [],
   "source": [
    "params_vanilla = Parameters(buffer_size = int(1e5),  # replay buffer size\n",
    "                            batch_size = 64,         # minibatch size\n",
    "                            gamma = 0.99,            # discount factor\n",
    "                            tau = 1e-3,              # for soft update of target parameters\n",
    "                            lr = 5e-4,               # learning rate \n",
    "                            update_every = 4,        # how often to update the network\n",
    "                            state_size = STATE_SIZE,\n",
    "                            action_size = ACTION_SIZE,\n",
    "                            use_per = False,          # Activate Prioritized Experience Replay?\n",
    "                            per_min_priority = .05,  # \"Epsilon\" in [2]\n",
    "                            per_prio_coeff = 1,      # \"Alpha\" in [2]\n",
    "                            per_w_bias_coeff = 1,    # \"Beta\" in [2]\n",
    "                            seed = np.random.randint(1000))\n",
    "\n",
    "bananator_vanilla = Agent(params_vanilla, cuda=False)"
   ]
  },
  {
   "cell_type": "code",
   "execution_count": 22,
   "metadata": {},
   "outputs": [
    {
     "name": "stdout",
     "output_type": "stream",
     "text": [
      "Avg. score episodes 1-201: 3.945\n",
      "Avg. score episodes 201-401: 10.18\n",
      "Avg. score episodes 401-601: 12.655\n",
      "Avg. score episodes 601-801: 13.91\n",
      "Score: 11.0\n",
      "CPU times: user 2h 41min 33s, sys: 2h 18min 15s, total: 4h 59min 49s\n",
      "Wall time: 29min 14s\n"
     ]
    }
   ],
   "source": [
    "%%time\n",
    "scores_vanilla = train(bananator_vanilla, env, num_episodes = 1000, log_freq=200)"
   ]
  },
  {
   "cell_type": "markdown",
   "metadata": {},
   "source": [
    "# Prioritized Experience Replay run"
   ]
  },
  {
   "cell_type": "code",
   "execution_count": 8,
   "metadata": {},
   "outputs": [],
   "source": [
    "params_per = Parameters(buffer_size = int(1e5),  # replay buffer size\n",
    "                        batch_size = 64,         # minibatch size\n",
    "                        gamma = 0.99,            # discount factor\n",
    "                        tau = 1e-3,              # for soft update of target parameters\n",
    "                        lr = 5e-4,               # learning rate \n",
    "                        update_every = 4,        # how often to update the network\n",
    "                        state_size = STATE_SIZE,\n",
    "                        action_size = ACTION_SIZE,\n",
    "                        use_per = True,          # Activate Prioritized Experience Replay?\n",
    "                        per_min_priority = .05,  # \"Epsilon\" in [2]\n",
    "                        per_prio_coeff = .7,      # \"Alpha\" in [2]\n",
    "                        per_w_bias_coeff = .7,    # \"Beta\" in [2]\n",
    "                        seed = np.random.randint(1000))\n",
    "\n",
    "bananator_per = Agent(params_per, cuda=False)"
   ]
  },
  {
   "cell_type": "code",
   "execution_count": 9,
   "metadata": {},
   "outputs": [
    {
     "name": "stdout",
     "output_type": "stream",
     "text": [
      "Avg. score episodes 1-201: 2.52\n",
      "Avg. score episodes 201-401: 8.15\n",
      "Avg. score episodes 401-601: 11.53\n",
      "Score: 11.0\n",
      "CPU times: user 3h 28min 48s, sys: 2h 44min 24s, total: 6h 13min 12s\n",
      "Wall time: 34min 55s\n"
     ]
    }
   ],
   "source": [
    "%%time\n",
    "scores_per = train(bananator_per, env, num_episodes = 800, log_freq=200)"
   ]
  },
  {
   "cell_type": "code",
   "execution_count": 16,
   "metadata": {},
   "outputs": [],
   "source": [
    "env.close()"
   ]
  },
  {
   "cell_type": "markdown",
   "metadata": {},
   "source": [
    "# Plotting + visualizing"
   ]
  },
  {
   "cell_type": "code",
   "execution_count": 23,
   "metadata": {},
   "outputs": [],
   "source": [
    "from matplotlib import pyplot as plt\n",
    "#import seaborn as sns"
   ]
  },
  {
   "cell_type": "code",
   "execution_count": 24,
   "metadata": {},
   "outputs": [],
   "source": [
    "def moving_average(signal:np.ndarray , period: int):\n",
    "    buffer = [np.nan] * period\n",
    "    for i in range(period,len(signal)):\n",
    "        buffer.append(signal[i-period:i].mean())\n",
    "    return np.array(buffer)\n",
    "\n",
    "#def moving_std(signal:np.ndarray , period: int):\n",
    "#    buffer = [np.nan] * period\n",
    "#    for i in range(period,len(signal)):\n",
    "#        buffer.append(signal[i-period:i].std())\n",
    "#    return np.array(buffer)"
   ]
  },
  {
   "cell_type": "code",
   "execution_count": 26,
   "metadata": {},
   "outputs": [
    {
     "data": {
      "text/plain": [
       "(0, 1400)"
      ]
     },
     "execution_count": 26,
     "metadata": {},
     "output_type": "execute_result"
    },
    {
     "data": {
      "image/png": "[encoded data removed]",
      "text/plain": [
       "<Figure size 576x360 with 1 Axes>"
      ]
     },
     "metadata": {
      "needs_background": "light"
     },
     "output_type": "display_data"
    }
   ],
   "source": [
    "length = 100\n",
    "avg_scores_vanilla = moving_average(scores_vanilla, length,)\n",
    "avg_scores_per = moving_average(scores_per, length)\n",
    "plt.figure(figsize=(8,5))\n",
    "plt.plot(avg_scores_vanilla, label='vanilla')\n",
    "plt.plot(avg_scores_per, label='PER')\n",
    "plt.hlines(13, xmin=0, xmax=1500, colors='r', label='solved')\n",
    "plt.grid()\n",
    "plt.xlabel('Episode')\n",
    "plt.ylabel('Avg. score')\n",
    "plt.title(f'Avg. score over {length} episodes')\n",
    "plt.legend(loc='lower right')\n",
    "plt.xlim((0, 1400))"
   ]
  },
  {
   "cell_type": "markdown",
   "metadata": {},
   "source": [
    "# Save models"
   ]
  },
  {
   "cell_type": "code",
   "execution_count": 27,
   "metadata": {},
   "outputs": [],
   "source": [
    "def save_agent(agent, name, params):\n",
    "    \"\"\"Saves the agent's parameters and the underlying pytorch model\"\"\"\n",
    "    checkpoint = {'state_dict': agent.qnetwork_local.state_dict(),\n",
    "                  'agent_params': params}\n",
    "    torch.save(checkpoint, f'models/{name}-checkpoint.pth')"
   ]
  },
  {
   "cell_type": "code",
   "execution_count": 28,
   "metadata": {},
   "outputs": [],
   "source": [
    "save_agent(bananator_vanilla, 'vanilla', params_vanilla)\n",
    "save_agent(bananator_per, 'per', params_per)"
   ]
  }
 ],
 "metadata": {
  "kernelspec": {
   "display_name": "drlnd",
   "language": "python",
   "name": "drlnd"
  },
  "language_info": {
   "codemirror_mode": {
    "name": "ipython",
    "version": 3
   },
   "file_extension": ".py",
   "mimetype": "text/x-python",
   "name": "python",
   "nbconvert_exporter": "python",
   "pygments_lexer": "ipython3",
   "version": "3.6.9"
  }
 },
 "nbformat": 4,
 "nbformat_minor": 2
}
